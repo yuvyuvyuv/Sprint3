{
 "cells": [
  {
   "cell_type": "code",
   "execution_count": 3,
   "id": "7a0e061e-1616-4b0f-87d9-c92306786e11",
   "metadata": {
    "tags": []
   },
   "outputs": [
    {
     "name": "stdout",
     "output_type": "stream",
     "text": [
      "Original data bits:  [1 0 1 1 0]\n",
      "Recovered data bits: [1]\n"
     ]
    }
   ],
   "source": [
    "import numpy as np\n",
    "\n",
    "# Parameters\n",
    "data_bits = np.array([1, 0, 1, 1, 0])  # Example data bits\n",
    "chip_rate = 10  # Number of chips per data bit\n",
    "\n",
    "# Generate PN code (example: simple binary PN code)\n",
    "pn_code = np.random.choice([1, -1], size=chip_rate)\n",
    "\n",
    "# Spread the data signal\n",
    "spread_signal = np.repeat(data_bits, chip_rate) * np.tile(pn_code, len(data_bits))\n",
    "\n",
    "# Simulate received signal (assume perfect transmission for simplicity)\n",
    "received_signal = spread_signal\n",
    "\n",
    "# Despread the received signal\n",
    "despread_signal = np.sign(np.correlate(received_signal, np.tile(pn_code, len(data_bits)), mode='valid'))\n",
    "\n",
    "# Recover original data bits\n",
    "recovered_bits = (despread_signal > 0).astype(int)\n",
    "\n",
    "print(\"Original data bits: \", data_bits)\n",
    "print(\"Recovered data bits:\", recovered_bits)\n"
   ]
  },
  {
   "cell_type": "code",
   "execution_count": null,
   "id": "f5ce667f-8e76-42ac-8d79-4ecf6f3fabdc",
   "metadata": {},
   "outputs": [],
   "source": [
    "import numpy as np\n",
    "import matplotlib.pyplot as plt\n",
    "import soundfile as sf\n",
    "from scipy.signal import correlate\n",
    "\n",
    "# Load an audio file\n",
    "audio_signal, sample_rate = sf.read('your_audio_file.wav')  # Replace with your audio file\n",
    "\n",
    "# Parameters\n",
    "chip_rate = 10  # Number of chips per audio sample\n",
    "\n",
    "# Generate PN code\n",
    "pn_code = np.random.choice([1, -1], size=chip_rate)\n",
    "\n",
    "# Function to spread the audio signal\n",
    "def spread_signal(audio_signal, pn_code, chip_rate):\n",
    "    spread_signal = np.repeat(audio_signal, chip_rate) * np.tile(pn_code, len(audio_signal))\n",
    "    return spread_signal\n",
    "\n",
    "# Function to despread the signal\n",
    "def despread_signal(received_signal, pn_code, chip_rate):\n",
    "    despread_signal = np.correlate(received_signal, np.tile(pn_code, len(received_signal) // chip_rate), mode='valid')\n",
    "    despread_signal = despread_signal[::chip_rate]\n",
    "    return despread_signal\n",
    "\n",
    "# Spread the audio signal\n",
    "spread_audio_signal = spread_signal(audio_signal, pn_code, chip_rate)\n",
    "\n",
    "# Simulate received signal (assume perfect transmission for simplicity)\n",
    "received_signal = spread_audio_signal\n",
    "\n",
    "# Despread the received signal\n",
    "recovered_audio_signal = despread_signal(received_signal, pn_code, chip_rate)\n",
    "\n",
    "# Normalize the recovered audio signal\n",
    "recovered_audio_signal = np.interp(recovered_audio_signal, (recovered_audio_signal.min(), recovered_audio_signal.max()), (-1, 1))\n",
    "\n",
    "# Save the recovered audio signal\n",
    "sf.write('recovered_audio_file.wav', recovered_audio_signal, sample_rate)\n",
    "\n",
    "# Plot the original, spread, and recovered signals\n",
    "plt.figure(figsize=(15, 5))\n",
    "\n",
    "plt.subplot(3, 1, 1)\n",
    "plt.plot(audio_signal)\n",
    "plt.title('Original Audio Signal')\n",
    "\n",
    "plt.subplot(3, 1, 2)\n",
    "plt.plot(spread_audio_signal)\n",
    "plt.title('Spread Audio Signal')\n",
    "\n",
    "plt.subplot(3, 1, 3)\n",
    "plt.plot(recovered_audio_signal)\n",
    "plt.title('Recovered Audio Signal')\n",
    "\n",
    "plt.tight_layout()\n",
    "plt.show()\n",
    "\n",
    "# Play the original and recovered audio\n",
    "import IPython.display as ipd\n",
    "\n",
    "print(\"Original Audio:\")\n",
    "ipd.display(ipd.Audio(audio_signal, rate=sample_rate))\n",
    "\n",
    "print(\"Recovered Audio:\")\n",
    "ipd.display(ipd.Audio(recovered_audio_signal, rate=sample_rate))\n"
   ]
  }
 ],
 "metadata": {
  "kernelspec": {
   "display_name": "Python 3 (ipykernel)",
   "language": "python",
   "name": "python3"
  },
  "language_info": {
   "codemirror_mode": {
    "name": "ipython",
    "version": 3
   },
   "file_extension": ".py",
   "mimetype": "text/x-python",
   "name": "python",
   "nbconvert_exporter": "python",
   "pygments_lexer": "ipython3",
   "version": "3.11.5"
  }
 },
 "nbformat": 4,
 "nbformat_minor": 5
}
