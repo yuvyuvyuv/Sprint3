{
 "cells": [
  {
   "cell_type": "code",
   "execution_count": 1,
   "outputs": [],
   "source": [
    "import os"
   ],
   "metadata": {
    "collapsed": false,
    "ExecuteTime": {
     "end_time": "2024-07-08T14:37:43.960197Z",
     "start_time": "2024-07-08T14:37:43.320574100Z"
    }
   },
   "id": "72ab31276954881"
  },
  {
   "cell_type": "code",
   "execution_count": 7,
   "outputs": [],
   "source": [
    "import tkinter as tk\n",
    "from PIL import Image, ImageTk, ImageDraw\n",
    "\n",
    "def add_red_frame(image, frame_width=10):\n",
    "    # Calculate the size of the new image with the frame\n",
    "    new_width = image.width + 2 * frame_width\n",
    "    new_height = image.height + 2 * frame_width\n",
    "    \n",
    "    # Create a new image with a red background\n",
    "    framed_image = Image.new(\"RGB\", (new_width, new_height), \"red\")\n",
    "    \n",
    "    # Paste the original image onto the center of the new image\n",
    "    framed_image.paste(image, (frame_width, frame_width))\n",
    "    \n",
    "    return framed_image\n",
    "\n",
    "def draw_img(image_path, duration_ms, x, y, frame_width=10):\n",
    "    # Load the image using PIL\n",
    "    image = Image.open(image_path)\n",
    "    \n",
    "    # Add a red frame around the image\n",
    "    framed_image = add_red_frame(image, frame_width)\n",
    "    \n",
    "    # Create a Tkinter window\n",
    "    window = tk.Tk()\n",
    "    window.attributes(\"-topmost\", True)\n",
    "    window.title(\"Image Display\")\n",
    "    \n",
    "    # Convert the framed image to a format Tkinter can use\n",
    "    tk_image = ImageTk.PhotoImage(framed_image)\n",
    "    \n",
    "    # Set window size and position\n",
    "    window.geometry(f\"{framed_image.width}x{framed_image.height}+{x}+{y}\")\n",
    "    \n",
    "    # Create a label to hold the image\n",
    "    label = tk.Label(window, image=tk_image)\n",
    "    label.image = tk_image  # Keep a reference to the image\n",
    "    label.pack()\n",
    "    \n",
    "    # Define a function to close the window\n",
    "    def close_window():\n",
    "        window.destroy()\n",
    "    \n",
    "    # Schedule the window to close after duration_ms milliseconds\n",
    "    window.after(duration_ms, close_window)\n",
    "    \n",
    "    # Start the Tkinter main loop\n",
    "    window.mainloop()"
   ],
   "metadata": {
    "collapsed": false,
    "ExecuteTime": {
     "end_time": "2024-07-08T14:39:14.106982400Z",
     "start_time": "2024-07-08T14:39:14.089351700Z"
    }
   },
   "id": "d4fc79b2c01a0731"
  },
  {
   "cell_type": "code",
   "execution_count": 8,
   "outputs": [],
   "source": [
    "def display_images_with_red_frame(folder_path):\n",
    "    # Get list of image files in the folder\n",
    "    image_files = [f for f in os.listdir(folder_path) if f.lower().endswith(('png', 'jpg', 'jpeg', 'bmp', 'gif'))]\n",
    "    \n",
    "    for image_file in image_files:\n",
    "        # Load image\n",
    "        image_path = os.path.join(folder_path, image_file)\n",
    "        draw_img(image_path, 2000, 0, 0)\n",
    "        \n",
    "# Folder containing the images\n",
    "folder_path = 'pics/'  # Replace with your folder path\n",
    "\n",
    "# Display all images in the folder with a red frame\n",
    "display_images_with_red_frame(folder_path)"
   ],
   "metadata": {
    "collapsed": false,
    "ExecuteTime": {
     "end_time": "2024-07-08T14:39:16.622636300Z",
     "start_time": "2024-07-08T14:39:14.603583500Z"
    }
   },
   "id": "9d51916b10d0c4d1"
  },
  {
   "cell_type": "code",
   "execution_count": 2,
   "outputs": [],
   "source": [
    "import win32gui\n",
    "import win32ui\n",
    "import win32con\n",
    "import ctypes\n",
    "from PIL import Image\n",
    "import time\n",
    "\n",
    "# Load the image using PIL\n",
    "image_path = 'img.png'  # Replace with your image file path\n",
    "image = Image.open(image_path)\n",
    "image = image.convert('RGB')  # Ensure the image is in RGB mode\n",
    "image_width, image_height = image.size\n",
    "image_data = image.tobytes(\"raw\", \"BGRX\")  # Convert to BGRX format\n",
    "\n",
    "# Define the BITMAPINFO structure using ctypes\n",
    "class BITMAPINFOHEADER(ctypes.Structure):\n",
    "    _fields_ = [\n",
    "        (\"biSize\", ctypes.c_uint32),\n",
    "        (\"biWidth\", ctypes.c_int32),\n",
    "        (\"biHeight\", ctypes.c_int32),\n",
    "        (\"biPlanes\", ctypes.c_uint16),\n",
    "        (\"biBitCount\", ctypes.c_uint16),\n",
    "        (\"biCompression\", ctypes.c_uint32),\n",
    "        (\"biSizeImage\", ctypes.c_uint32),\n",
    "        (\"biXPelsPerMeter\", ctypes.c_int32),\n",
    "        (\"biYPelsPerMeter\", ctypes.c_int32),\n",
    "        (\"biClrUsed\", ctypes.c_uint32),\n",
    "        (\"biClrImportant\", ctypes.c_uint32),\n",
    "    ]\n",
    "\n",
    "class BITMAPINFO(ctypes.Structure):\n",
    "    _fields_ = [\n",
    "        (\"bmiHeader\", BITMAPINFOHEADER),\n",
    "        (\"bmiColors\", ctypes.c_uint32 * 3),\n",
    "    ]\n",
    "\n",
    "# Create a DC compatible with the screen\n",
    "hdc = win32gui.GetDC(0)\n",
    "compatible_dc = win32ui.CreateDCFromHandle(hdc)\n",
    "\n",
    "# Create a memory DC compatible with the screen DC\n",
    "memory_dc = compatible_dc.CreateCompatibleDC()\n",
    "\n",
    "# Create a bitmap object\n",
    "bitmap = win32ui.CreateBitmap()\n",
    "bitmap.CreateCompatibleBitmap(compatible_dc, image_width, image_height)\n",
    "\n",
    "# Select the bitmap into the memory DC\n",
    "old_bitmap = memory_dc.SelectObject(bitmap)\n",
    "\n",
    "# Create a bitmap info header\n",
    "bmi = BITMAPINFO()\n",
    "bmi.bmiHeader.biSize = ctypes.sizeof(BITMAPINFOHEADER)\n",
    "bmi.bmiHeader.biWidth = image_width\n",
    "bmi.bmiHeader.biHeight = -image_height  # Negative to ensure the bitmap is right-side up\n",
    "bmi.bmiHeader.biPlanes = 1\n",
    "bmi.bmiHeader.biBitCount = 32\n",
    "bmi.bmiHeader.biCompression = win32con.BI_RGB\n",
    "\n",
    "# Set the bits of the bitmap\n",
    "ctypes.windll.gdi32.SetDIBitsToDevice(\n",
    "    memory_dc.GetSafeHdc(),\n",
    "    0, 0, image_width, image_height,\n",
    "    0, 0, 0, image_height,\n",
    "    image_data,\n",
    "    ctypes.byref(bmi),\n",
    "    win32con.DIB_RGB_COLORS\n",
    ")\n",
    "\n",
    "# Draw the image onto the screen\n",
    "compatible_dc.BitBlt((100, 100), (image_width, image_height), memory_dc, (0, 0), win32con.SRCCOPY)\n",
    "\n",
    "time.sleep(5)  # Sleep for 5 seconds to view the image\n",
    "\n",
    "# Clean up\n",
    "memory_dc.SelectObject(old_bitmap)\n",
    "memory_dc.DeleteDC()\n",
    "compatible_dc.DeleteDC()\n",
    "win32gui.ReleaseDC(0, hdc)\n",
    "win32gui.DeleteObject(bitmap.GetHandle())  # Corrected line to delete the bitmap object"
   ],
   "metadata": {
    "collapsed": false,
    "ExecuteTime": {
     "end_time": "2024-07-08T13:52:06.941356100Z",
     "start_time": "2024-07-08T13:52:01.857464900Z"
    }
   },
   "id": "20144f44dcc152c3"
  },
  {
   "cell_type": "code",
   "execution_count": 1,
   "outputs": [],
   "source": [
    "import tkinter as tk\n",
    "from PIL import Image, ImageTk\n",
    "import time \n",
    "\n",
    "# Load the image using PIL\n",
    "image_path = 'img.png'  # Replace with your image file path\n",
    "image = Image.open(image_path)\n",
    "\n",
    "# Create a Tkinter window\n",
    "\n",
    "window = tk.Tk()\n",
    "window.title(\"Overlay\")\n",
    "window.geometry(f\"{image.width}x{image.height}+300+300\")  # Set window size and position\n",
    "window.attributes(\"-topmost\", True)  # Make the window always on top\n",
    "window.overrideredirect(True)  # Remove window decorations (optional)\n",
    "\n",
    "# Convert the image to a format Tkinter can use\n",
    "tk_image = ImageTk.PhotoImage(image)\n",
    "\n",
    "# Create a label to hold the image\n",
    "label = tk.Label(window, image=tk_image)\n",
    "label.pack()\n",
    "\n",
    "# Define a function to close the window\n",
    "def close_window():\n",
    "    window.destroy()\n",
    "\n",
    "# Schedule the window to close after 2000 milliseconds (2 seconds)\n",
    "window.after(20, close_window)\n",
    "\n",
    "# Start the Tkinter main loop\n",
    "window.mainloop()\n",
    "time.sleep(0.5)\n",
    "    "
   ],
   "metadata": {
    "collapsed": false,
    "ExecuteTime": {
     "end_time": "2024-07-08T13:51:16.452134400Z",
     "start_time": "2024-07-08T13:50:58.969617400Z"
    }
   },
   "id": "a2b109cf87dd4c2c"
  },
  {
   "cell_type": "code",
   "execution_count": 22,
   "outputs": [
    {
     "ename": "KeyboardInterrupt",
     "evalue": "",
     "output_type": "error",
     "traceback": [
      "\u001B[1;31m---------------------------------------------------------------------------\u001B[0m",
      "\u001B[1;31mKeyboardInterrupt\u001B[0m                         Traceback (most recent call last)",
      "Cell \u001B[1;32mIn[22], line 40\u001B[0m\n\u001B[0;32m     37\u001B[0m draw_grid(dc, x, y, width, height, size, \u001B[38;5;241m-\u001B[39moffset)\n\u001B[0;32m     38\u001B[0m \u001B[38;5;28;01mwhile\u001B[39;00m \u001B[38;5;28;01mTrue\u001B[39;00m:\n\u001B[0;32m     39\u001B[0m     \u001B[38;5;66;03m# Draw the square\u001B[39;00m\n\u001B[1;32m---> 40\u001B[0m     draw_grid(dc, x, y, width, height, size, \u001B[38;5;241m2\u001B[39m\u001B[38;5;241m*\u001B[39moffset)\n\u001B[0;32m     41\u001B[0m     time\u001B[38;5;241m.\u001B[39msleep(\u001B[38;5;241m0.001\u001B[39m)\n\u001B[0;32m     42\u001B[0m     \u001B[38;5;66;03m# Erase the square by drawing it in black (assuming the background is black)\u001B[39;00m\n",
      "Cell \u001B[1;32mIn[22], line 20\u001B[0m, in \u001B[0;36mdraw_grid\u001B[1;34m(dc, x_c, y_c, width, height, empty_width, offset)\u001B[0m\n\u001B[0;32m     18\u001B[0m \u001B[38;5;28;01mfor\u001B[39;00m x \u001B[38;5;129;01min\u001B[39;00m \u001B[38;5;28mrange\u001B[39m(\u001B[38;5;241m0\u001B[39m, width, empty_width):\n\u001B[0;32m     19\u001B[0m     \u001B[38;5;28;01mfor\u001B[39;00m y \u001B[38;5;129;01min\u001B[39;00m \u001B[38;5;28mrange\u001B[39m(\u001B[38;5;241m0\u001B[39m, height, empty_width):\n\u001B[1;32m---> 20\u001B[0m         color \u001B[38;5;241m=\u001B[39m win32api\u001B[38;5;241m.\u001B[39mRGB(\u001B[38;5;241m*\u001B[39m(i\u001B[38;5;241m-\u001B[39moffset \u001B[38;5;28;01mfor\u001B[39;00m i \u001B[38;5;129;01min\u001B[39;00m get_pixel_color(x_c \u001B[38;5;241m+\u001B[39m x, y_c \u001B[38;5;241m+\u001B[39m y)))\n\u001B[0;32m     21\u001B[0m         win32gui\u001B[38;5;241m.\u001B[39mSetPixel(dc, x_c \u001B[38;5;241m+\u001B[39m x, y_c \u001B[38;5;241m+\u001B[39m y, color)\n",
      "Cell \u001B[1;32mIn[22], line 9\u001B[0m, in \u001B[0;36mget_pixel_color\u001B[1;34m(x, y)\u001B[0m\n\u001B[0;32m      7\u001B[0m hdc \u001B[38;5;241m=\u001B[39m win32gui\u001B[38;5;241m.\u001B[39mGetDC(\u001B[38;5;241m0\u001B[39m)  \u001B[38;5;66;03m# Get the device context for the entire screen\u001B[39;00m\n\u001B[0;32m      8\u001B[0m color \u001B[38;5;241m=\u001B[39m win32gui\u001B[38;5;241m.\u001B[39mGetPixel(hdc, x, y)  \u001B[38;5;66;03m# Get the color of the pixel at (x, y)\u001B[39;00m\n\u001B[1;32m----> 9\u001B[0m win32gui\u001B[38;5;241m.\u001B[39mReleaseDC(\u001B[38;5;241m0\u001B[39m, hdc)  \u001B[38;5;66;03m# Release the device context\u001B[39;00m\n\u001B[0;32m     11\u001B[0m \u001B[38;5;66;03m# Extract the RGB components\u001B[39;00m\n\u001B[0;32m     12\u001B[0m red \u001B[38;5;241m=\u001B[39m color \u001B[38;5;241m&\u001B[39m \u001B[38;5;241m0xff\u001B[39m\n",
      "\u001B[1;31mKeyboardInterrupt\u001B[0m: "
     ]
    }
   ],
   "source": [
    "import win32gui\n",
    "import win32api\n",
    "import time\n",
    "import numpy as np\n",
    "\n",
    "def get_pixel_color(x, y):\n",
    "    hdc = win32gui.GetDC(0)  # Get the device context for the entire screen\n",
    "    color = win32gui.GetPixel(hdc, x, y)  # Get the color of the pixel at (x, y)\n",
    "    win32gui.ReleaseDC(0, hdc)  # Release the device context\n",
    "    \n",
    "    # Extract the RGB components\n",
    "    red = color & 0xff\n",
    "    green = (color >> 8) & 0xff\n",
    "    blue = (color >> 16) & 0xff\n",
    "    return red, green, blue\n",
    "\n",
    "def draw_grid(dc, x_c, y_c, width, height, empty_width, offset):\n",
    "    for x in range(0, width, empty_width):\n",
    "        for y in range(0, height, empty_width):\n",
    "            color = win32api.RGB(*(i-offset for i in get_pixel_color(x_c + x, y_c + y)))\n",
    "            win32gui.SetPixel(dc, x_c + x, y_c + y, color)\n",
    "\n",
    "# Define the color\n",
    "red = win32api.RGB(255, 0, 0)\n",
    "black = win32api.RGB(0, 255, 0)\n",
    "\n",
    "# Get the device context for the entire screen\n",
    "dc = win32gui.GetDC(0)\n",
    "\n",
    "# Define the top-left corner of the square and its size\n",
    "x, y = 100, 100  # Top-left corner coordinates\n",
    "width, height = 100, 100  # Size of the square\n",
    "size = 5  # Size of the square\n",
    "offset = 70\n",
    "\n",
    "try:\n",
    "    draw_grid(dc, x, y, width, height, size, -offset)\n",
    "    while True:\n",
    "        # Draw the square\n",
    "        draw_grid(dc, x, y, width, height, size, 2*offset)\n",
    "        time.sleep(0.001)\n",
    "        # Erase the square by drawing it in black (assuming the background is black)\n",
    "        draw_grid(dc, x, y, width, height, size, -2*offset)\n",
    "        time.sleep(0.001)\n",
    "finally:\n",
    "    # Release the device context\n",
    "    win32gui.ReleaseDC(0, dc)"
   ],
   "metadata": {
    "collapsed": false,
    "ExecuteTime": {
     "end_time": "2024-07-08T13:08:10.443316800Z",
     "start_time": "2024-07-08T13:00:28.131881100Z"
    }
   },
   "id": "8589ee109df11cfc"
  },
  {
   "cell_type": "code",
   "execution_count": null,
   "outputs": [],
   "source": [],
   "metadata": {
    "collapsed": false
   },
   "id": "53ba3c3a2c45cbb4"
  },
  {
   "cell_type": "code",
   "execution_count": 2,
   "outputs": [
    {
     "ename": "NameError",
     "evalue": "name 'Image' is not defined",
     "output_type": "error",
     "traceback": [
      "\u001B[1;31m---------------------------------------------------------------------------\u001B[0m",
      "\u001B[1;31mNameError\u001B[0m                                 Traceback (most recent call last)",
      "Cell \u001B[1;32mIn[2], line 18\u001B[0m\n\u001B[0;32m     15\u001B[0m     window\u001B[38;5;241m.\u001B[39mmainloop()\n\u001B[0;32m     17\u001B[0m \u001B[38;5;66;03m# Example usage\u001B[39;00m\n\u001B[1;32m---> 18\u001B[0m display_image(\u001B[38;5;124m'\u001B[39m\u001B[38;5;124mimg.png\u001B[39m\u001B[38;5;124m'\u001B[39m)\n",
      "Cell \u001B[1;32mIn[2], line 9\u001B[0m, in \u001B[0;36mdisplay_image\u001B[1;34m(image_path)\u001B[0m\n\u001B[0;32m      6\u001B[0m window\u001B[38;5;241m.\u001B[39mtitle(\u001B[38;5;124m\"\u001B[39m\u001B[38;5;124mSteganography Image\u001B[39m\u001B[38;5;124m\"\u001B[39m)\n\u001B[0;32m      7\u001B[0m window\u001B[38;5;241m.\u001B[39mgeometry(\u001B[38;5;124m\"\u001B[39m\u001B[38;5;124m800x600\u001B[39m\u001B[38;5;124m\"\u001B[39m)  \u001B[38;5;66;03m# Adjust the window size as needed\u001B[39;00m\n\u001B[1;32m----> 9\u001B[0m img \u001B[38;5;241m=\u001B[39m Image\u001B[38;5;241m.\u001B[39mopen(image_path)\n\u001B[0;32m     10\u001B[0m tk_image \u001B[38;5;241m=\u001B[39m ImageTk\u001B[38;5;241m.\u001B[39mPhotoImage(img)\n\u001B[0;32m     12\u001B[0m label \u001B[38;5;241m=\u001B[39m tk\u001B[38;5;241m.\u001B[39mLabel(window, image\u001B[38;5;241m=\u001B[39mtk_image)\n",
      "\u001B[1;31mNameError\u001B[0m: name 'Image' is not defined"
     ]
    }
   ],
   "source": [
    "import tkinter as tk\n",
    "from PIL import ImageTk\n",
    "\n",
    "def display_image(image_path):\n",
    "    window = tk.Tk()\n",
    "    window.title(\"Steganography Image\")\n",
    "    window.geometry(\"800x600\")  # Adjust the window size as needed\n",
    "\n",
    "    img = Image.open(image_path)\n",
    "    tk_image = ImageTk.PhotoImage(img)\n",
    "\n",
    "    label = tk.Label(window, image=tk_image)\n",
    "    label.pack()\n",
    "\n",
    "    window.mainloop()\n",
    "\n",
    "# Example usage\n",
    "display_image('img.png')\n"
   ],
   "metadata": {
    "collapsed": false,
    "ExecuteTime": {
     "end_time": "2024-07-08T12:32:29.021834400Z",
     "start_time": "2024-07-08T12:32:28.999296Z"
    }
   },
   "id": "c71879bdb470963c"
  },
  {
   "cell_type": "code",
   "execution_count": null,
   "outputs": [],
   "source": [],
   "metadata": {
    "collapsed": false
   },
   "id": "df31ef48f5417e65"
  },
  {
   "cell_type": "code",
   "execution_count": null,
   "outputs": [],
   "source": [],
   "metadata": {
    "collapsed": false
   },
   "id": "fa2412091af4855e"
  },
  {
   "cell_type": "code",
   "execution_count": 2,
   "outputs": [
    {
     "ename": "KeyboardInterrupt",
     "evalue": "",
     "output_type": "error",
     "traceback": [
      "\u001B[1;31m---------------------------------------------------------------------------\u001B[0m",
      "\u001B[1;31mKeyboardInterrupt\u001B[0m                         Traceback (most recent call last)",
      "Cell \u001B[1;32mIn[2], line 70\u001B[0m\n\u001B[0;32m     67\u001B[0m         draw_img(png_image, time_ms, x, y)\n\u001B[0;32m     68\u001B[0m         time\u001B[38;5;241m.\u001B[39msleep(\u001B[38;5;241m0.1\u001B[39m)\n\u001B[1;32m---> 70\u001B[0m draw_qr(\u001B[38;5;124m'\u001B[39m\u001B[38;5;124mimg.png\u001B[39m\u001B[38;5;124m'\u001B[39m, \u001B[38;5;241m2000\u001B[39m, \u001B[38;5;241m100\u001B[39m, \u001B[38;5;241m100\u001B[39m)\n",
      "Cell \u001B[1;32mIn[2], line 67\u001B[0m, in \u001B[0;36mdraw_qr\u001B[1;34m(path, time_ms, x, y)\u001B[0m\n\u001B[0;32m     65\u001B[0m \u001B[38;5;28;01mfor\u001B[39;00m img \u001B[38;5;129;01min\u001B[39;00m img_grid:\n\u001B[0;32m     66\u001B[0m     png_image \u001B[38;5;241m=\u001B[39m numpy_to_png_image(img)\n\u001B[1;32m---> 67\u001B[0m     draw_img(png_image, time_ms, x, y)\n\u001B[0;32m     68\u001B[0m     time\u001B[38;5;241m.\u001B[39msleep(\u001B[38;5;241m0.1\u001B[39m)\n",
      "Cell \u001B[1;32mIn[2], line 55\u001B[0m, in \u001B[0;36mdraw_img\u001B[1;34m(png_image, duration_ms, x, y)\u001B[0m\n\u001B[0;32m     52\u001B[0m window\u001B[38;5;241m.\u001B[39mafter(duration_ms, close_window)\n\u001B[0;32m     54\u001B[0m \u001B[38;5;66;03m# Start the Tkinter main loop\u001B[39;00m\n\u001B[1;32m---> 55\u001B[0m window\u001B[38;5;241m.\u001B[39mmainloop()\n",
      "File \u001B[1;32mC:\\ProgramData\\anaconda3\\Lib\\tkinter\\__init__.py:1485\u001B[0m, in \u001B[0;36mMisc.mainloop\u001B[1;34m(self, n)\u001B[0m\n\u001B[0;32m   1483\u001B[0m \u001B[38;5;28;01mdef\u001B[39;00m \u001B[38;5;21mmainloop\u001B[39m(\u001B[38;5;28mself\u001B[39m, n\u001B[38;5;241m=\u001B[39m\u001B[38;5;241m0\u001B[39m):\n\u001B[0;32m   1484\u001B[0m \u001B[38;5;250m    \u001B[39m\u001B[38;5;124;03m\"\"\"Call the mainloop of Tk.\"\"\"\u001B[39;00m\n\u001B[1;32m-> 1485\u001B[0m     \u001B[38;5;28mself\u001B[39m\u001B[38;5;241m.\u001B[39mtk\u001B[38;5;241m.\u001B[39mmainloop(n)\n",
      "File \u001B[1;32mC:\\ProgramData\\anaconda3\\Lib\\tkinter\\__init__.py:1943\u001B[0m, in \u001B[0;36mCallWrapper.__call__\u001B[1;34m(self, *args)\u001B[0m\n\u001B[0;32m   1940\u001B[0m     \u001B[38;5;28mself\u001B[39m\u001B[38;5;241m.\u001B[39msubst \u001B[38;5;241m=\u001B[39m subst\n\u001B[0;32m   1941\u001B[0m     \u001B[38;5;28mself\u001B[39m\u001B[38;5;241m.\u001B[39mwidget \u001B[38;5;241m=\u001B[39m widget\n\u001B[1;32m-> 1943\u001B[0m \u001B[38;5;28;01mdef\u001B[39;00m \u001B[38;5;21m__call__\u001B[39m(\u001B[38;5;28mself\u001B[39m, \u001B[38;5;241m*\u001B[39margs):\n\u001B[0;32m   1944\u001B[0m \u001B[38;5;250m    \u001B[39m\u001B[38;5;124;03m\"\"\"Apply first function SUBST to arguments, than FUNC.\"\"\"\u001B[39;00m\n\u001B[0;32m   1945\u001B[0m     \u001B[38;5;28;01mtry\u001B[39;00m:\n",
      "\u001B[1;31mKeyboardInterrupt\u001B[0m: "
     ]
    }
   ],
   "source": [
    "import tkinter as tk\n",
    "import numpy as np\n",
    "from PIL import Image, PngImagePlugin, ImageTk\n",
    "import io\n",
    "import time\n",
    "\n",
    "# Load the image using PIL\n",
    "image_path = 'img.png'  # Replace with your image file path\n",
    "\n",
    "def numpy_to_png_image(array: np.ndarray) -> PngImagePlugin.PngImageFile:\n",
    "    # Ensure the array is in the correct format\n",
    "    if array.dtype != np.uint8:\n",
    "        # Scale array to 0-255 range and convert to uint8\n",
    "        array = ((array - np.min(array)) / (np.max(array) - np.min(array)) * 255).astype(np.uint8)\n",
    "    \n",
    "    # Convert the NumPy array to a PIL Image\n",
    "    pil_image = Image.fromarray(array)\n",
    "    \n",
    "    # Save the PIL Image to a BytesIO object\n",
    "    byte_io = io.BytesIO()\n",
    "    pil_image.save(byte_io, format='PNG')\n",
    "    byte_io.seek(0)  # Go to the start of the BytesIO object\n",
    "    \n",
    "    # Load the image from the BytesIO object as a PngImageFile\n",
    "    png_image = PngImagePlugin.PngImageFile(byte_io)\n",
    "    \n",
    "    return png_image\n",
    "\n",
    "def draw_img(png_image, duration_ms, x, y):\n",
    "    if not isinstance(png_image, PngImagePlugin.PngImageFile):\n",
    "        raise TypeError(\"The image must be a PngImagePlugin.PngImageFile object\")\n",
    "\n",
    "    # Create a Tkinter window\n",
    "    window = tk.Tk()\n",
    "    \n",
    "    # Convert the image to a format Tkinter can use\n",
    "    tk_image = ImageTk.PhotoImage(png_image)\n",
    "    \n",
    "    # Set window size and position\n",
    "    window.geometry(f\"{png_image.width}x{png_image.height}+{x}+{y}\")\n",
    "    \n",
    "    # Create a label to hold the image\n",
    "    label = tk.Label(window, image=tk_image)\n",
    "    label.image = tk_image  # Keep a reference to the image\n",
    "    label.pack()\n",
    "    \n",
    "    # Define a function to close the window\n",
    "    def close_window():\n",
    "        window.destroy()\n",
    "    \n",
    "    # Schedule the window to close after duration_ms milliseconds\n",
    "    window.after(duration_ms, close_window)\n",
    "    \n",
    "    # Start the Tkinter main loop\n",
    "    window.mainloop()\n",
    "\n",
    "def draw_qr(path, time_ms, x, y):\n",
    "    image = Image.open(path)\n",
    "    img_arr = np.array(image)\n",
    "    xs = np.linspace(0, image.width, 10, dtype=int)\n",
    "    ys = np.linspace(0, image.height, 10, dtype=int)\n",
    "    img_grid = [img_arr[xs[i]:xs[i+1], ys[j]:ys[j+1]] for i in range(9) for j in range(9)]\n",
    "    \n",
    "    # Create a Tkinter window\n",
    "    for img in img_grid:\n",
    "        png_image = numpy_to_png_image(img)\n",
    "        draw_img(png_image, time_ms, x, y)\n",
    "        time.sleep(0.1)\n",
    "        \n",
    "draw_qr('img.png', 2000, 100, 100)"
   ],
   "metadata": {
    "collapsed": false,
    "ExecuteTime": {
     "end_time": "2024-07-08T13:48:52.527353900Z",
     "start_time": "2024-07-08T13:48:46.838101800Z"
    }
   },
   "id": "5c5f02a32333ef4a"
  },
  {
   "cell_type": "code",
   "execution_count": null,
   "outputs": [],
   "source": [],
   "metadata": {
    "collapsed": false
   },
   "id": "e1c3745b6d14f167"
  }
 ],
 "metadata": {
  "kernelspec": {
   "display_name": "Python 3",
   "language": "python",
   "name": "python3"
  },
  "language_info": {
   "codemirror_mode": {
    "name": "ipython",
    "version": 2
   },
   "file_extension": ".py",
   "mimetype": "text/x-python",
   "name": "python",
   "nbconvert_exporter": "python",
   "pygments_lexer": "ipython2",
   "version": "2.7.6"
  }
 },
 "nbformat": 4,
 "nbformat_minor": 5
}
